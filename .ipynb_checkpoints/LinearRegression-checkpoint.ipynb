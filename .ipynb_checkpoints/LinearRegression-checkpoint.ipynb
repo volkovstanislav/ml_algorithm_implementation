{
 "cells": [
  {
   "cell_type": "markdown",
   "metadata": {},
   "source": [
    "## Импорт библиотек"
   ]
  },
  {
   "cell_type": "code",
   "execution_count": 8,
   "metadata": {},
   "outputs": [],
   "source": [
    "import numpy as np\n",
    "import pandas as pd\n",
    "import seaborn as sns\n",
    "import matplotlib.pyplot as plt\n",
    "from sklearn.datasets import make_regression\n",
    "\n",
    "%matplotlib inline"
   ]
  },
  {
   "cell_type": "markdown",
   "metadata": {},
   "source": [
    "## Генерируем данные"
   ]
  },
  {
   "cell_type": "code",
   "execution_count": 20,
   "metadata": {},
   "outputs": [],
   "source": [
    "X, y = make_regression(n_samples=100, n_features=2, random_state=0) \n",
    "y = 2 * X[:,0] + 3 * X[:,1]"
   ]
  },
  {
   "cell_type": "markdown",
   "metadata": {},
   "source": [
    "## Линейная регрессия\n",
    "Имплементация модели линейной регрессии на основе метода градиентного спуска\n",
    "#### Функция потерь имеет следующий вид:\n",
    "$\n",
    "L = \\sum_{i=1}^n \\left(y_i - w_i * x_i \\right)^2\n",
    "$\n",
    "#### Перепишем в векторном виде:\n",
    "$\n",
    "L = \\sum_{i=1}^n \\left(y - w^T * x^{(i)})  \\right)^2 = ||y - Xw||^2\n",
    "$\n",
    "#### где:\n",
    "$\n",
    "X = \\begin{vmatrix}\n",
    "1 & x_1^1 & ... & x_n^1\\\\\n",
    "1 & x_1^2 & ... & x_n^2\\\\\n",
    "... & ... & ... & ...\\\\\n",
    "1 & x_1^N & ... & x_n^N\\\\\n",
    "\\end{vmatrix}\n",
    "$\n",
    "#### Итого аналитическое решение:\n",
    "$\n",
    "w = \\left( X^TX\\right)^{-1}X^Ty\n",
    "$"
   ]
  },
  {
   "cell_type": "code",
   "execution_count": 102,
   "metadata": {},
   "outputs": [],
   "source": [
    "class LinearRegression():\n",
    "    \"\"\"Class of implementation of Linear regression model\"\"\"\n",
    "    weights = 0\n",
    "    \n",
    "    def __init__(self, learning_rate=0.01, n_steps=10000):\n",
    "        self.learning_rate = learning_rate\n",
    "        self.n_steps = n_steps\n",
    "        \n",
    "    def calc_grad(self, X, y):\n",
    "        \"\"\"\n",
    "        Implementation of gradient of loss function\n",
    "        \"\"\"\n",
    "        return 2/X.shape[0] * np.dot(X.T, (np.dot(X, self.weights) - y))\n",
    "    \n",
    "    def fit_1(self, X, y):\n",
    "        \"\"\"\n",
    "        Train the machine learning model for analytical method\n",
    "        with matrix multiplication\n",
    "        \"\"\"\n",
    "        X_t = np.transpose(X)\n",
    "        self.weights = np.dot(np.dot(np.linalg.inv(np.dot(X_t, X)), X_t),y)\n",
    "        return self\n",
    "        \n",
    "    def fit_2(self, X, y):\n",
    "        '''\n",
    "        Method for learning the optimal parameters of the model\n",
    "        '''        \n",
    "        # random initialization of the model weights\n",
    "        self.weights = np.random.rand((X.shape[1]))\n",
    "        \n",
    "        # iteratively updating W for n_steps\n",
    "        for i in range(self.n_steps):\n",
    "            self.weights = self.weights - self.learning_rate * self.calc_grad(X, y)\n",
    "        return self\n",
    "        \n",
    "    def predict_1(self, X):\n",
    "        \"\"\"Predict model by after train model with fit_1 function\"\"\"\n",
    "        return np.dot(X, self.weights)\n",
    "        \n",
    "    def predict_2(self, X):\n",
    "        \"\"\"Predict model by after train model on fit_2 function\"\"\"\n",
    "        return np.dot(X, self.weights)"
   ]
  },
  {
   "cell_type": "code",
   "execution_count": 103,
   "metadata": {},
   "outputs": [
    {
     "data": {
      "text/plain": [
       "array([2., 3.])"
      ]
     },
     "execution_count": 103,
     "metadata": {},
     "output_type": "execute_result"
    }
   ],
   "source": [
    "lr = LinearRegression()\n",
    "lr = lr.fit_1(X, y)\n",
    "lr.predict_1(1)"
   ]
  },
  {
   "cell_type": "code",
   "execution_count": 104,
   "metadata": {},
   "outputs": [
    {
     "data": {
      "text/plain": [
       "array([2., 3.])"
      ]
     },
     "execution_count": 104,
     "metadata": {},
     "output_type": "execute_result"
    }
   ],
   "source": [
    "lr = LinearRegression()\n",
    "lr = lr.fit_2(X, y)\n",
    "lr.predict_2(1)"
   ]
  }
 ],
 "metadata": {
  "kernelspec": {
   "display_name": "Python 3",
   "language": "python",
   "name": "python3"
  },
  "language_info": {
   "codemirror_mode": {
    "name": "ipython",
    "version": 3
   },
   "file_extension": ".py",
   "mimetype": "text/x-python",
   "name": "python",
   "nbconvert_exporter": "python",
   "pygments_lexer": "ipython3",
   "version": "3.8.3"
  }
 },
 "nbformat": 4,
 "nbformat_minor": 4
}
